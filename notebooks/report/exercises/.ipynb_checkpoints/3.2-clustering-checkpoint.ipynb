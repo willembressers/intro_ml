{
 "cells": [
  {
   "cell_type": "code",
   "execution_count": 1,
   "id": "f1592a23-733b-4124-87e1-142c9ef45395",
   "metadata": {},
   "outputs": [],
   "source": [
    "# OPTIONAL: Load the \"autoreload\" extension so that code can change\n",
    "%load_ext autoreload\n",
    "\n",
    "# OPTIONAL: always reload modules so that as you change code in src, it gets loaded\n",
    "%autoreload 2\n",
    "\n",
    "# python core libraries\n",
    "\n",
    "# 3rd party libraries\n",
    "import pandas as pd\n",
    "\n",
    "# custom libraries\n",
    "from src import visualize"
   ]
  },
  {
   "cell_type": "markdown",
   "id": "f9a87842-fd4d-46cb-bc0f-5c4fb06d9072",
   "metadata": {
    "tags": []
   },
   "source": [
    "# Exercise: 3.2 clustering"
   ]
  },
  {
   "cell_type": "markdown",
   "id": "e011cbc1-bcd1-47cb-9c68-8f1f81173bc2",
   "metadata": {},
   "source": [
    "## Omschrijving"
   ]
  },
  {
   "cell_type": "code",
   "execution_count": null,
   "id": "de4026c2-9d3e-47d5-8b0d-03576f607a4d",
   "metadata": {},
   "outputs": [],
   "source": []
  },
  {
   "cell_type": "markdown",
   "id": "7c3d19f0-425e-46f8-b1db-edf5043f221f",
   "metadata": {},
   "source": [
    "## Leerdoelen"
   ]
  },
  {
   "cell_type": "code",
   "execution_count": null,
   "id": "6cd9bb49-ca01-4b64-a6a5-699128a02374",
   "metadata": {},
   "outputs": [],
   "source": []
  },
  {
   "cell_type": "markdown",
   "id": "c188519e-b393-49b5-8a2a-ea6a70cc5c71",
   "metadata": {},
   "source": [
    "### Verwachte uitkomst"
   ]
  },
  {
   "cell_type": "code",
   "execution_count": null,
   "id": "478436a6-2c05-4e42-a2cf-a2ea718d395f",
   "metadata": {},
   "outputs": [],
   "source": []
  },
  {
   "cell_type": "markdown",
   "id": "e813420d-75cc-4ca5-b0cb-63c52e1e0ebe",
   "metadata": {},
   "source": [
    "## Nakijkecriteria"
   ]
  },
  {
   "cell_type": "code",
   "execution_count": null,
   "id": "6170b761-71f1-4929-b298-4654161d13e7",
   "metadata": {},
   "outputs": [],
   "source": []
  }
 ],
 "metadata": {
  "kernelspec": {
   "display_name": "Python 3 (ipykernel)",
   "language": "python",
   "name": "python3"
  },
  "language_info": {
   "codemirror_mode": {
    "name": "ipython",
    "version": 3
   },
   "file_extension": ".py",
   "mimetype": "text/x-python",
   "name": "python",
   "nbconvert_exporter": "python",
   "pygments_lexer": "ipython3",
   "version": "3.8.2"
  }
 },
 "nbformat": 4,
 "nbformat_minor": 5
}
