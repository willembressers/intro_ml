{
 "cells": [
  {
   "cell_type": "markdown",
   "id": "f9a87842-fd4d-46cb-bc0f-5c4fb06d9072",
   "metadata": {
    "tags": []
   },
   "source": [
    "# Exercise: 4.1 dimensionality_reduction"
   ]
  },
  {
   "cell_type": "markdown",
   "id": "e011cbc1-bcd1-47cb-9c68-8f1f81173bc2",
   "metadata": {},
   "source": [
    "## Omschrijving"
   ]
  },
  {
   "cell_type": "markdown",
   "id": "cd0ea585-66c5-495a-b11b-7ee41488f32a",
   "metadata": {},
   "source": []
  },
  {
   "cell_type": "markdown",
   "id": "7c3d19f0-425e-46f8-b1db-edf5043f221f",
   "metadata": {},
   "source": [
    "## Leerdoelen"
   ]
  },
  {
   "cell_type": "markdown",
   "id": "7a409653-672a-4ee9-948c-ae2d6af81aae",
   "metadata": {},
   "source": []
  },
  {
   "cell_type": "markdown",
   "id": "c188519e-b393-49b5-8a2a-ea6a70cc5c71",
   "metadata": {},
   "source": [
    "## Opdracht"
   ]
  },
  {
   "cell_type": "markdown",
   "id": "90d97892-8bb8-47a8-9ee1-4476638ead02",
   "metadata": {},
   "source": []
  },
  {
   "cell_type": "code",
   "execution_count": null,
   "id": "704a9b6e-2990-4280-a43f-a4cd0a8a5c6d",
   "metadata": {},
   "outputs": [],
   "source": [
    "# OPTIONAL: Load the \"autoreload\" extension so that code can change\n",
    "%load_ext autoreload\n",
    "\n",
    "# OPTIONAL: always reload modules so that as you change code in src, it gets loaded\n",
    "%autoreload 2\n",
    "\n",
    "# python core libraries\n",
    "import os\n",
    "\n",
    "# 3rd party libraries\n",
    "import pandas as pd\n",
    "\n",
    "# custom libraries\n",
    "from src import visualize\n",
    "\n",
    "# global variables\n",
    "file_path = os.path.join(os.pardir, os.pardir, os.pardir, 'data', 'raw', '4.1.csv')"
   ]
  },
  {
   "cell_type": "markdown",
   "id": "76846d6b-c687-4eba-b789-469d822b9119",
   "metadata": {},
   "source": [
    "Lees de data in een pandas dataframe"
   ]
  },
  {
   "cell_type": "code",
   "execution_count": null,
   "id": "54921c1c-0a1c-4f16-89b4-fbb3d8d84efc",
   "metadata": {},
   "outputs": [],
   "source": [
    "df = pd.read_csv(file_path)"
   ]
  },
  {
   "cell_type": "markdown",
   "id": "0cc34b73-c57f-4bab-bf64-17189bd2f8b5",
   "metadata": {},
   "source": [
    "Toon 10 willekeurige regels"
   ]
  },
  {
   "cell_type": "code",
   "execution_count": null,
   "id": "8dcac7ab-49ee-4a14-9b7f-80fdbb6a3c5c",
   "metadata": {},
   "outputs": [],
   "source": [
    "df.sample(10)"
   ]
  },
  {
   "cell_type": "markdown",
   "id": "9d688a62-9c3f-4102-a6bc-48f02a62bc22",
   "metadata": {},
   "source": [
    "Visualiseer de kolommen in een histogram, zodat we een beeld krijgen hoe de data verdeeld is."
   ]
  },
  {
   "cell_type": "code",
   "execution_count": null,
   "id": "c40e77ed-a23c-433c-a9cc-f272302b804a",
   "metadata": {},
   "outputs": [],
   "source": [
    "visualize.histograms(df)"
   ]
  },
  {
   "cell_type": "markdown",
   "id": "2c218289-e9fe-4ae2-9a4e-cc839285f9b1",
   "metadata": {},
   "source": [
    "## Nu jij"
   ]
  },
  {
   "cell_type": "markdown",
   "id": "9104e936-18ac-49c6-a63b-a9715adb2909",
   "metadata": {},
   "source": [
    "* \n",
    "* \n",
    "* "
   ]
  },
  {
   "cell_type": "code",
   "execution_count": null,
   "id": "655fdaab-f108-4804-89e6-7c6aee9af08d",
   "metadata": {},
   "outputs": [],
   "source": []
  },
  {
   "cell_type": "markdown",
   "id": "a960472c-06d3-43e7-a64a-f813b95f9fa0",
   "metadata": {},
   "source": [
    "## Verwachte uitkomst"
   ]
  },
  {
   "cell_type": "code",
   "execution_count": null,
   "id": "4da977ee-ea58-40dd-b228-4abaeb2f9276",
   "metadata": {},
   "outputs": [],
   "source": []
  }
 ],
 "metadata": {
  "kernelspec": {
   "display_name": "Python 3 (ipykernel)",
   "language": "python",
   "name": "python3"
  },
  "language_info": {
   "codemirror_mode": {
    "name": "ipython",
    "version": 3
   },
   "file_extension": ".py",
   "mimetype": "text/x-python",
   "name": "python",
   "nbconvert_exporter": "python",
   "pygments_lexer": "ipython3",
   "version": "3.8.2"
  }
 },
 "nbformat": 4,
 "nbformat_minor": 5
}
