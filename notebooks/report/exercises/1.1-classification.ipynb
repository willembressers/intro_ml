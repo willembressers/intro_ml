{
 "cells": [
  {
   "cell_type": "markdown",
   "id": "f9a87842-fd4d-46cb-bc0f-5c4fb06d9072",
   "metadata": {
    "tags": []
   },
   "source": [
    "# Exercise: 1.1 classification"
   ]
  },
  {
   "cell_type": "markdown",
   "id": "e011cbc1-bcd1-47cb-9c68-8f1f81173bc2",
   "metadata": {},
   "source": [
    "## Omschrijving"
   ]
  },
  {
   "cell_type": "markdown",
   "id": "cd0ea585-66c5-495a-b11b-7ee41488f32a",
   "metadata": {},
   "source": [
    "Laten we meteen met een praktijkvoorbeeld beginnen. Spam in onze email. In mijn ogen is dit nog echt iets van vroeger, en heb je (ik) er tegenwoordig \"bijna\" geen last meer van.\n",
    "\n",
    "Een spam filter bestaat meestal uit 2 machine learning componenten:\n",
    "\n",
    "- een `Natural Language Program` (NLP) filter dat textuele kenmerken uit de email haalt\n",
    "- een classifier die op basis van de textuele kenmerken bepaalt of de email `HAM` / `SPAM` is.\n",
    "\n",
    "![images/email-spam-example.png](images/email-spam-example.png)\n",
    "\n",
    "Als we nu de volgende dataset bekijken dan zien we de output van het eerste component. De getallen zijn `scores` van hoe vaak of hoe weinig iets voorkomt, dit betekend dat het geen `integers` zijn, maar `floats` omdat de score afhankelijk is van meerdere eigenschappen."
   ]
  },
  {
   "cell_type": "markdown",
   "id": "7c3d19f0-425e-46f8-b1db-edf5043f221f",
   "metadata": {},
   "source": [
    "## Leerdoelen"
   ]
  },
  {
   "cell_type": "markdown",
   "id": "7a409653-672a-4ee9-948c-ae2d6af81aae",
   "metadata": {},
   "source": [
    "### Exploratory Data Analysis\n",
    "\n",
    "In de vorige opdrachten zijn we heel naar het implementeren van machine learning modellen gegaan. Dit is natuurlijk leuk en waarvoor jullie deze cursus volgen, maar dit is niet de praktijk. **In de praktijk ga je eerst jezelf bekend maken met de data.** slice en dice het in alle mogelijke vormen, maak berekeningen en bevestig hypotheses van jouw of experts om je heen. Dit heet Exploratory Data Analysis (EDA), en dat gaan we in deze opdracht samen doen.\n",
    "\n",
    "### Split\n",
    "\n",
    "Nu willen we de algoritmes trainen op een data set, maar we willen ook weten hoe `goed` het getrainde model is wanneer deze nieuwe data krijgt. Maar als we model \"live\" moeten zetten om te bepalen hoe `goed` deze is, dan krijgen we heel veel kritiek (als het model niet `goed` is). Wat we het beste kunnen doen is de dataset `splitsen` in een `training-set` en een `test-set`.\n",
    "\n",
    "Het model laten we dan leren op alles wat in de `training-set` zit. Als dit klaar is, dan geven we vervolgens alleen de `features` van de `test-set` (`X_test`) aan het model, zodat deze gaat `voorspellen` wat de bijbehorende targets (`y_pred`) zijn. Deze `voorspellingen` (`y_pred`) ga je vervolgens vergelijken met de `echte` waardes (`y_test`), en zodoende kan je bepalen hoe goed het model werkt.\n",
    "\n",
    "### Normaliseer & Standardizeer\n",
    "\n",
    "Algoritmes vermenigvuldigen en delen de input waardes met elkaar. Als je dan huizenprijzen (bv. 489.000 euro) gaat vermenigvuldigen met het aantal kamers (bv. 10). Dan heeft het aantal kamers een veel groter effect op de vermenigvuldiging dan de prijs. Het effect wil je wel behouden, maar de verschillende schalen niet.\n",
    "De meeste algoritmes werken het daarom beste als alle input in dezelfde schaal ligt. Als we van zowel de huisprijs als het aantal kamers de range schalen tussen de [0,1] dan blijft het effect behouden (aantal kamers heeft veel invloed) maar de exacte waarde veel minder. Het verschalen tussen [0,1] heet `normaliseren`.\n",
    "\n",
    "Stel je hebt in je dataset hoofdzakelijk villa's zitten van dezelfde prijsrange. Dan liggen de prijzen veel hoger (ruim in de miljoenen neem ik aan). Als je dan gaat normaliseren tussen [0,1] dan liggen de meeste waardes rond de 0.9. Dit komt omdat 1 record (bijvoorbeeld een appartement en dus een lagere prijs) nu heel veel effect heeft op de normalisering. Dan ga je vaak `standaardiseren`. Hiermee vergelijk je iedere record tenopzichte van het `gemiddelde` waardoor je een veel betere verdeling hebt. Iedere villa wordt veel zuiverder met elkaar vergeleken, en het appartement blijft een enorme uitschieter."
   ]
  },
  {
   "cell_type": "markdown",
   "id": "c188519e-b393-49b5-8a2a-ea6a70cc5c71",
   "metadata": {},
   "source": [
    "## Opdracht"
   ]
  },
  {
   "cell_type": "markdown",
   "id": "90d97892-8bb8-47a8-9ee1-4476638ead02",
   "metadata": {},
   "source": []
  },
  {
   "cell_type": "code",
   "execution_count": 10,
   "id": "704a9b6e-2990-4280-a43f-a4cd0a8a5c6d",
   "metadata": {},
   "outputs": [
    {
     "name": "stdout",
     "output_type": "stream",
     "text": [
      "The autoreload extension is already loaded. To reload it, use:\n",
      "  %reload_ext autoreload\n"
     ]
    }
   ],
   "source": [
    "# OPTIONAL: Load the \"autoreload\" extension so that code can change\n",
    "%load_ext autoreload\n",
    "\n",
    "# OPTIONAL: always reload modules so that as you change code in src, it gets loaded\n",
    "%autoreload 2\n",
    "\n",
    "# python core libraries\n",
    "import os\n",
    "\n",
    "# 3rd party libraries\n",
    "import pandas as pd\n",
    "\n",
    "# custom libraries\n",
    "from src import visualize\n",
    "\n",
    "# global variables\n",
    "file_path = os.path.join(os.pardir, os.pardir, os.pardir, 'data', 'raw', '1.1.csv')"
   ]
  },
  {
   "cell_type": "markdown",
   "id": "76846d6b-c687-4eba-b789-469d822b9119",
   "metadata": {},
   "source": [
    "Lees de data in een pandas dataframe"
   ]
  },
  {
   "cell_type": "code",
   "execution_count": 11,
   "id": "54921c1c-0a1c-4f16-89b4-fbb3d8d84efc",
   "metadata": {},
   "outputs": [],
   "source": [
    "df = pd.read_csv(file_path)"
   ]
  },
  {
   "cell_type": "markdown",
   "id": "0cc34b73-c57f-4bab-bf64-17189bd2f8b5",
   "metadata": {},
   "source": [
    "Toon 10 willekeurige regels"
   ]
  },
  {
   "cell_type": "code",
   "execution_count": 12,
   "id": "8dcac7ab-49ee-4a14-9b7f-80fdbb6a3c5c",
   "metadata": {},
   "outputs": [
    {
     "data": {
      "text/html": [
       "<div>\n",
       "<style scoped>\n",
       "    .dataframe tbody tr th:only-of-type {\n",
       "        vertical-align: middle;\n",
       "    }\n",
       "\n",
       "    .dataframe tbody tr th {\n",
       "        vertical-align: top;\n",
       "    }\n",
       "\n",
       "    .dataframe thead th {\n",
       "        text-align: right;\n",
       "    }\n",
       "</style>\n",
       "<table border=\"1\" class=\"dataframe\">\n",
       "  <thead>\n",
       "    <tr style=\"text-align: right;\">\n",
       "      <th></th>\n",
       "      <th>title_caps</th>\n",
       "      <th>title_diacritics</th>\n",
       "      <th>triggers</th>\n",
       "      <th>prices</th>\n",
       "      <th>attachments</th>\n",
       "      <th>spam</th>\n",
       "    </tr>\n",
       "  </thead>\n",
       "  <tbody>\n",
       "    <tr>\n",
       "      <th>78</th>\n",
       "      <td>0.815836</td>\n",
       "      <td>-0.933915</td>\n",
       "      <td>-0.175459</td>\n",
       "      <td>-0.882870</td>\n",
       "      <td>-0.533020</td>\n",
       "      <td>1</td>\n",
       "    </tr>\n",
       "    <tr>\n",
       "      <th>5</th>\n",
       "      <td>1.022420</td>\n",
       "      <td>-0.168199</td>\n",
       "      <td>0.008549</td>\n",
       "      <td>1.150808</td>\n",
       "      <td>-0.174180</td>\n",
       "      <td>0</td>\n",
       "    </tr>\n",
       "    <tr>\n",
       "      <th>48</th>\n",
       "      <td>0.783441</td>\n",
       "      <td>-0.344987</td>\n",
       "      <td>-1.305727</td>\n",
       "      <td>0.931717</td>\n",
       "      <td>-0.230840</td>\n",
       "      <td>0</td>\n",
       "    </tr>\n",
       "    <tr>\n",
       "      <th>67</th>\n",
       "      <td>1.167555</td>\n",
       "      <td>-0.877282</td>\n",
       "      <td>0.884909</td>\n",
       "      <td>1.108634</td>\n",
       "      <td>-0.867787</td>\n",
       "      <td>0</td>\n",
       "    </tr>\n",
       "    <tr>\n",
       "      <th>98</th>\n",
       "      <td>0.895623</td>\n",
       "      <td>0.528880</td>\n",
       "      <td>-0.828628</td>\n",
       "      <td>-1.850641</td>\n",
       "      <td>-2.237087</td>\n",
       "      <td>1</td>\n",
       "    </tr>\n",
       "    <tr>\n",
       "      <th>92</th>\n",
       "      <td>0.888389</td>\n",
       "      <td>1.232899</td>\n",
       "      <td>0.367232</td>\n",
       "      <td>-0.849672</td>\n",
       "      <td>-0.422857</td>\n",
       "      <td>1</td>\n",
       "    </tr>\n",
       "    <tr>\n",
       "      <th>37</th>\n",
       "      <td>1.167777</td>\n",
       "      <td>1.616950</td>\n",
       "      <td>0.129102</td>\n",
       "      <td>1.013136</td>\n",
       "      <td>0.502741</td>\n",
       "      <td>0</td>\n",
       "    </tr>\n",
       "    <tr>\n",
       "      <th>23</th>\n",
       "      <td>0.700176</td>\n",
       "      <td>0.282676</td>\n",
       "      <td>-0.797270</td>\n",
       "      <td>0.882393</td>\n",
       "      <td>-0.826097</td>\n",
       "      <td>0</td>\n",
       "    </tr>\n",
       "    <tr>\n",
       "      <th>82</th>\n",
       "      <td>1.376614</td>\n",
       "      <td>-2.142467</td>\n",
       "      <td>0.086464</td>\n",
       "      <td>-0.627546</td>\n",
       "      <td>-0.830169</td>\n",
       "      <td>1</td>\n",
       "    </tr>\n",
       "    <tr>\n",
       "      <th>96</th>\n",
       "      <td>0.623629</td>\n",
       "      <td>-0.537223</td>\n",
       "      <td>-0.701344</td>\n",
       "      <td>0.936403</td>\n",
       "      <td>0.156264</td>\n",
       "      <td>0</td>\n",
       "    </tr>\n",
       "  </tbody>\n",
       "</table>\n",
       "</div>"
      ],
      "text/plain": [
       "    title_caps  title_diacritics  triggers    prices  attachments  spam\n",
       "78    0.815836         -0.933915 -0.175459 -0.882870    -0.533020     1\n",
       "5     1.022420         -0.168199  0.008549  1.150808    -0.174180     0\n",
       "48    0.783441         -0.344987 -1.305727  0.931717    -0.230840     0\n",
       "67    1.167555         -0.877282  0.884909  1.108634    -0.867787     0\n",
       "98    0.895623          0.528880 -0.828628 -1.850641    -2.237087     1\n",
       "92    0.888389          1.232899  0.367232 -0.849672    -0.422857     1\n",
       "37    1.167777          1.616950  0.129102  1.013136     0.502741     0\n",
       "23    0.700176          0.282676 -0.797270  0.882393    -0.826097     0\n",
       "82    1.376614         -2.142467  0.086464 -0.627546    -0.830169     1\n",
       "96    0.623629         -0.537223 -0.701344  0.936403     0.156264     0"
      ]
     },
     "execution_count": 12,
     "metadata": {},
     "output_type": "execute_result"
    }
   ],
   "source": [
    "df.sample(10)"
   ]
  },
  {
   "cell_type": "markdown",
   "id": "9d688a62-9c3f-4102-a6bc-48f02a62bc22",
   "metadata": {},
   "source": [
    "Visualiseer de kolommen in een histogram, zodat we een beeld krijgen hoe de data verdeeld is."
   ]
  },
  {
   "cell_type": "code",
   "execution_count": 13,
   "id": "c40e77ed-a23c-433c-a9cc-f272302b804a",
   "metadata": {},
   "outputs": [
    {
     "data": {
      "application/vnd.plotly.v1+json": {
       "config": {
        "plotlyServerURL": "https://plot.ly"
       },
       "data": [
        {
         "name": "title_caps",
         "type": "histogram",
         "x": [
          0.848069266034133,
          0.9645720491689348,
          0.8614625583990794,
          0.87226739420103,
          0.4411898065973839,
          1.0224201888119395,
          0.983799588475498,
          0.8577195294751508,
          0.5585387291616768,
          1.178672736032449,
          1.446821802978492,
          0.4673979050233181,
          0.9268698101370234,
          1.8382940020117355,
          0.980427414166272,
          0.8886114568841085,
          0.7752853263946639,
          0.8712257889228014,
          1.1206215505733514,
          2.075829711218021,
          0.6675917951237984,
          0.6256733726929036,
          1.1480965730273718,
          0.7001757103956218,
          1.2570443405637142,
          0.8598237505632118,
          0.7737036127053923,
          1.2799138611945464,
          0.6236885206491605,
          0.354133613063627,
          1.1846862410287575,
          0.8572964910314202,
          0.9670372672874856,
          0.7229780072783478,
          0.8888388132265973,
          1.1354511214808412,
          0.8787407108150369,
          1.1677767648464212,
          1.7754769802252792,
          1.646618531138555,
          0.4733077715133892,
          0.7880184546155571,
          0.8587749615063791,
          1.3658646057938713,
          1.1855900269489703,
          1.0604086060349098,
          1.094884846850771,
          1.4689314624094183,
          0.7834405376815831,
          0.9292506003821566,
          1.2454939773716378,
          1.3285794874727748,
          0.6921144881545628,
          1.1894777785581612,
          0.4468951606303631,
          0.9713953383996804,
          0.6183904470554754,
          0.6109426002771399,
          1.3474082484156824,
          0.8786438023828849,
          1.985193133292912,
          1.126419814839981,
          1.347286427211254,
          0.947814112949102,
          0.876994649969822,
          1.0281747892602584,
          0.1059364502821916,
          1.1675548573985226,
          0.5630779019377534,
          1.584637738307735,
          1.1437713001296168,
          0.6917437297999465,
          1.2161906095301152,
          1.0119522783461037,
          0.8533555454602381,
          0.8955105082490926,
          0.8989171610789398,
          0.7617066844593652,
          0.8158361162028245,
          1.3272011170361426,
          1.3919812847440975,
          0.9978551633605188,
          1.3766140468168702,
          0.9362112464079576,
          0.3457159974212194,
          1.0652331074966812,
          0.7903238932891028,
          1.0725884656230211,
          1.067029179566105,
          1.2286736742133422,
          1.6675229688599074,
          1.0117733734132208,
          0.8883894446099407,
          0.5699838482929139,
          0.6215309908320834,
          0.6818893355161222,
          0.6236294995277172,
          0.6136367070044536,
          0.8956231222359867,
          1.0396731551776253
         ],
         "xaxis": "x",
         "yaxis": "y"
        },
        {
         "name": "title_diacritics",
         "type": "histogram",
         "x": [
          0.6545801525867004,
          2.0511734428574444,
          0.451946037321223,
          -0.1950573408759011,
          0.4501555127671789,
          -0.1681988397447159,
          -0.7995474906917599,
          0.7217112921126926,
          -0.4487380326716227,
          -0.4431719307006377,
          -1.3065340728440185,
          -0.1028872175735376,
          -0.1053447125075421,
          -1.2368533765413974,
          -0.5457741679825677,
          1.7897546832062712,
          -0.4116391631884825,
          1.460892380463078,
          1.208456328551963,
          1.1234121620219353,
          -0.1989981838037244,
          -0.6613442431530187,
          0.6610202875986929,
          0.2826757122484202,
          -0.2364369518129867,
          1.0989963327471792,
          -0.6069983982000461,
          -0.6011568006493835,
          2.1378280674394823,
          -1.674195807618932,
          -0.2790977215432902,
          1.93752881361608,
          1.1223283216570925,
          0.3865391451330911,
          -0.2973618827735036,
          0.3501671588282789,
          -0.1841763256537453,
          1.6169495988573002,
          -0.4349566829552277,
          -0.2033944489645584,
          -0.0177183179101422,
          -0.4791849151274058,
          -0.3848322488327904,
          0.3235273536014321,
          0.9214500686595114,
          0.0218628366265524,
          0.1892931975586576,
          -0.861316360776042,
          -0.3449872101549794,
          2.054624102518116,
          -1.471156925832625,
          0.4666432672288407,
          0.0165275673056156,
          -0.3109849783028509,
          -0.9554252623736892,
          -0.2379419357521826,
          1.7602492264490932,
          0.7147895974858154,
          -0.4130293097110322,
          1.1181333967176956,
          0.1094026964254281,
          -1.1759826714413153,
          0.6085146984848496,
          1.7045941713724069,
          -1.2331207354464266,
          -0.6946935952872263,
          -0.3439007092103924,
          -0.8772815189181883,
          0.7950260944248447,
          -0.8677686776235903,
          0.2764993048221836,
          1.1041743263032135,
          -1.1148710523659369,
          0.3102722877837673,
          -1.7775663758059874,
          -0.7819116826868007,
          0.9561217041246964,
          0.9206151180549562,
          -0.9339146556265012,
          0.4511229387345986,
          1.2020548621997058,
          -1.160170104982276,
          -2.1424667290773685,
          -0.5084571342754007,
          1.5433591108044835,
          0.9391687441964878,
          0.0809271009732786,
          -1.342675789377436,
          0.4923365559366488,
          1.7679599483110264,
          -1.021885944641309,
          1.6133613745631157,
          1.2328991923762371,
          1.232253070828436,
          -2.7825344676529227,
          -1.9425891814764555,
          -0.5372230238753384,
          -1.5387932457446432,
          0.528879745585174,
          1.4514292605909354
         ],
         "xaxis": "x2",
         "yaxis": "y2"
        },
        {
         "name": "triggers",
         "type": "histogram",
         "x": [
          0.8245846250334574,
          -1.0445893819077916,
          -0.4148469012882354,
          0.9200179332477632,
          -0.1083920671735398,
          0.0085489454360246,
          0.057120996082092,
          -0.8224671889042517,
          -0.1902210250848615,
          0.6185391307862932,
          2.1106050536007097,
          0.8408615581411037,
          -0.918440038300026,
          -0.5865239388215925,
          2.4493686490613973,
          0.8088443602656821,
          -2.114163921916826,
          0.6745707069560037,
          -0.4291422782350937,
          -0.5998045310708474,
          -0.1187711721030892,
          1.3887793963702684,
          0.201830178874004,
          -0.7972697854931297,
          0.352494364369333,
          -0.7223919054141509,
          0.4295261400219645,
          0.0896864073225901,
          0.5643828554943137,
          -0.6657545181991266,
          -0.8805775998441709,
          -2.79308500014654,
          0.4381663472912375,
          -0.3312831699326283,
          -0.0845080274046298,
          -0.4791570987860799,
          0.6179855339203347,
          0.1291015797107254,
          0.6233621765780327,
          -0.7003985049212547,
          -1.1077125022845524,
          -0.418937897678123,
          1.000881423680301,
          -0.4422292795131728,
          0.0954250871912577,
          0.324274243448421,
          -0.2589828534005323,
          -1.396620424595432,
          -1.3057269225577377,
          -0.7499696172756662,
          2.0657833202188343,
          -0.0497025791586758,
          0.2111247550077167,
          -0.4982135636310781,
          0.7847706510155895,
          1.1926860677546935,
          2.056355523198293,
          -1.7559256402328518,
          0.8532812219556223,
          -0.5322340208981775,
          1.558805540619859,
          0.4611640999770174,
          1.0449944096738977,
          1.197830841721251,
          -0.1204645717885074,
          0.0133526763471765,
          -0.5938430672545096,
          0.8849088144648833,
          -1.5256803162293575,
          -0.7255971191344275,
          0.2624674454632686,
          0.4516159505552415,
          0.515413801783241,
          1.1158411079241686,
          -2.413503001173788,
          1.399843942480986,
          0.6210827008390084,
          -1.873160977635301,
          -0.1754589686617526,
          -1.4023291454531368,
          0.1340481965546231,
          -1.6840599858682372,
          0.0864644065242874,
          0.8709698025322423,
          0.8360047194342688,
          -0.5574947217860433,
          -1.1164700178847444,
          -0.3264994980781842,
          -0.0568244808858473,
          -1.426555420520532,
          0.4776101818175572,
          -0.2287658288701624,
          0.3672318138838647,
          -1.44087602429184,
          0.5150736136393657,
          -2.037201225680795,
          -0.7013444262571769,
          0.0353600970547573,
          -0.8286279788564058,
          -0.1067939867792251
         ],
         "xaxis": "x3",
         "yaxis": "y3"
        },
        {
         "name": "prices",
         "type": "histogram",
         "x": [
          0.8279873708711869,
          1.21828167992902,
          -1.4753391527670985,
          1.026007665443852,
          -1.8887398191896665,
          1.150807550251469,
          -1.278618001940948,
          -1.390030424705494,
          0.8255069542071991,
          1.1789942513173068,
          -0.6824301926378888,
          -0.5470622387481153,
          -1.0923082765348864,
          1.3255141185000552,
          1.1001847550303598,
          -1.1472282644315164,
          0.786556510927579,
          -0.8735358220393482,
          -1.1801341248339487,
          1.0343658132120666,
          -1.4462098728691366,
          1.231872511916856,
          1.1735314526842158,
          0.8823933142441358,
          -0.6237328123760154,
          -1.1564950314268887,
          1.068210437174273,
          -0.968539694419306,
          -1.1891378718034162,
          0.9039454505835728,
          0.965482331076764,
          1.1387289630870896,
          0.908526040733614,
          -0.8498307378543942,
          0.8140513466608131,
          -1.1146901964903064,
          -1.4666216105885124,
          1.0131357444773983,
          0.9643505644902312,
          1.084800375294685,
          -1.0136696147054516,
          -1.2037692726248406,
          -0.6720498164694828,
          0.8491760661362975,
          1.033341004147798,
          -0.9073183611270496,
          -1.4418909621618132,
          1.033450516268753,
          0.9317171973880908,
          -1.2125878069874894,
          1.0027765491746703,
          -1.6845076973356652,
          1.1745696549429092,
          0.8217832103452452,
          0.8506379634566029,
          1.0576548952621476,
          -1.0304893229308636,
          -0.9449599479880828,
          -0.5424599219229069,
          -1.0494863822738634,
          1.2238271227292563,
          0.9445950662814496,
          -0.8894875962170039,
          -1.2391225600617886,
          0.8918914052769839,
          0.6177141850665622,
          -1.5355611804303309,
          1.108633593662286,
          1.0679636791754488,
          1.329702988273395,
          1.1771811092403848,
          -1.2025725826988056,
          -1.364191319668968,
          -0.917664624318472,
          -1.2993617873714682,
          0.8780991029624965,
          0.8414672057666084,
          -1.6416247924569929,
          -0.8828698203275791,
          -0.5789623016216506,
          0.704557071452043,
          -0.9335572895150446,
          -0.6275462597642983,
          -0.9843772463017404,
          0.771514409328893,
          -1.2301755468806426,
          0.9158840417315484,
          1.2432872441446574,
          0.751480619491496,
          -1.739637994721246,
          -0.4938569965406407,
          -1.422031642583927,
          -0.849671872685073,
          0.606604306638012,
          -1.137428554197676,
          0.9985451874023448,
          0.9364033321072016,
          -0.7604580946331838,
          -1.8506409892206923,
          0.9592881897453625
         ],
         "xaxis": "x4",
         "yaxis": "y4"
        },
        {
         "name": "attachments",
         "type": "histogram",
         "x": [
          -0.0511884476076642,
          0.5856620001723825,
          -1.5791562853944654,
          0.8053934242321815,
          1.7653351005190716,
          -0.1741803443079907,
          -0.2915945955008327,
          -0.625342001465988,
          -0.6724480387865963,
          1.8105349141254563,
          0.076380480159592,
          1.146900376399483,
          0.630195670684911,
          0.8758389276492995,
          -0.1988378628888967,
          0.4512840160401709,
          1.2785280828417218,
          0.5924728014240198,
          1.1157018027844865,
          0.3052670402440107,
          1.8664713751521247,
          3.0308571123720305,
          1.792158208975567,
          -0.8260974318473202,
          0.7278134999996488,
          -0.901634490475998,
          0.1062227240352178,
          0.5560735100773853,
          -0.7855339969202355,
          0.8250298244389859,
          1.622849085954001,
          0.3663320145400582,
          -0.9970197955296825,
          -0.8514556565308268,
          0.4173020049748625,
          0.0171647263740885,
          -0.1159851854723962,
          0.5027408819999043,
          1.4075400002412286,
          0.2426694410817945,
          -1.719394474619523,
          -1.9521052872452325,
          1.45810823860952,
          -0.1099914901636068,
          0.0607501957995067,
          -0.4686738162778913,
          -0.5637887345823027,
          0.6747115256879723,
          -0.2308397431354694,
          0.0534095367983479,
          -0.8301718953151139,
          1.033686867939501,
          0.1771877202759604,
          -0.0018914828380037,
          0.5859104311026156,
          1.1552878860882252,
          -0.0606524917748098,
          0.8527040617252863,
          1.8347176266496867,
          0.6743961048208689,
          -1.2197443969790327,
          1.0101271773347245,
          -0.0693286966904828,
          1.0400891531540952,
          -1.1823181265096336,
          0.6218035043055724,
          -1.0001691898725158,
          -0.8677872228729256,
          -0.3744383188432206,
          -0.1359773261005893,
          -0.7332716038953129,
          -0.2817362690656128,
          -0.7673098263317347,
          -2.094247816222812,
          -0.7778588266274128,
          -0.437508982828581,
          -0.7058405074022839,
          -0.0353679248787109,
          -0.5330203260835993,
          -0.6949209011852391,
          0.2847481108490579,
          1.350106818681726,
          -0.830168864022708,
          0.7774192052488628,
          0.7588056600979309,
          -1.9433234056683528,
          -0.1865789935114662,
          1.114382976779792,
          -0.6806781410088858,
          -0.4753728751379821,
          0.7945282396010823,
          -0.3748046873026527,
          -0.4228569613907754,
          -0.2541798676073683,
          0.5846466104774262,
          -2.506440652676061,
          0.1562638502700832,
          -0.4478951847161186,
          -2.2370865111124707,
          -0.6180368476815788
         ],
         "xaxis": "x5",
         "yaxis": "y5"
        },
        {
         "name": "spam",
         "type": "histogram",
         "x": [
          0,
          0,
          1,
          0,
          1,
          0,
          1,
          1,
          0,
          0,
          1,
          1,
          1,
          0,
          0,
          1,
          0,
          1,
          1,
          0,
          1,
          0,
          0,
          0,
          1,
          1,
          0,
          1,
          1,
          0,
          0,
          0,
          0,
          1,
          0,
          1,
          1,
          0,
          0,
          0,
          1,
          1,
          0,
          0,
          0,
          1,
          1,
          0,
          0,
          1,
          0,
          1,
          0,
          0,
          0,
          0,
          1,
          1,
          1,
          1,
          0,
          0,
          1,
          1,
          0,
          0,
          1,
          0,
          0,
          0,
          0,
          1,
          1,
          1,
          1,
          0,
          0,
          1,
          1,
          1,
          0,
          1,
          1,
          1,
          0,
          1,
          0,
          0,
          0,
          1,
          1,
          1,
          1,
          0,
          1,
          0,
          0,
          1,
          1,
          0
         ],
         "xaxis": "x6",
         "yaxis": "y6"
        }
       ],
       "layout": {
        "annotations": [
         {
          "font": {
           "size": 16
          },
          "showarrow": false,
          "text": "title_caps",
          "x": 0.10625,
          "xanchor": "center",
          "xref": "paper",
          "y": 1,
          "yanchor": "bottom",
          "yref": "paper"
         },
         {
          "font": {
           "size": 16
          },
          "showarrow": false,
          "text": "title_diacritics",
          "x": 0.36875,
          "xanchor": "center",
          "xref": "paper",
          "y": 1,
          "yanchor": "bottom",
          "yref": "paper"
         },
         {
          "font": {
           "size": 16
          },
          "showarrow": false,
          "text": "triggers",
          "x": 0.6312500000000001,
          "xanchor": "center",
          "xref": "paper",
          "y": 1,
          "yanchor": "bottom",
          "yref": "paper"
         },
         {
          "font": {
           "size": 16
          },
          "showarrow": false,
          "text": "prices",
          "x": 0.89375,
          "xanchor": "center",
          "xref": "paper",
          "y": 1,
          "yanchor": "bottom",
          "yref": "paper"
         },
         {
          "font": {
           "size": 16
          },
          "showarrow": false,
          "text": "attachments",
          "x": 0.10625,
          "xanchor": "center",
          "xref": "paper",
          "y": 0.375,
          "yanchor": "bottom",
          "yref": "paper"
         },
         {
          "font": {
           "size": 16
          },
          "showarrow": false,
          "text": "spam",
          "x": 0.36875,
          "xanchor": "center",
          "xref": "paper",
          "y": 0.375,
          "yanchor": "bottom",
          "yref": "paper"
         }
        ],
        "autosize": true,
        "showlegend": false,
        "template": {
         "data": {
          "bar": [
           {
            "error_x": {
             "color": "#2a3f5f"
            },
            "error_y": {
             "color": "#2a3f5f"
            },
            "marker": {
             "line": {
              "color": "white",
              "width": 0.5
             },
             "pattern": {
              "fillmode": "overlay",
              "size": 10,
              "solidity": 0.2
             }
            },
            "type": "bar"
           }
          ],
          "barpolar": [
           {
            "marker": {
             "line": {
              "color": "white",
              "width": 0.5
             },
             "pattern": {
              "fillmode": "overlay",
              "size": 10,
              "solidity": 0.2
             }
            },
            "type": "barpolar"
           }
          ],
          "carpet": [
           {
            "aaxis": {
             "endlinecolor": "#2a3f5f",
             "gridcolor": "#C8D4E3",
             "linecolor": "#C8D4E3",
             "minorgridcolor": "#C8D4E3",
             "startlinecolor": "#2a3f5f"
            },
            "baxis": {
             "endlinecolor": "#2a3f5f",
             "gridcolor": "#C8D4E3",
             "linecolor": "#C8D4E3",
             "minorgridcolor": "#C8D4E3",
             "startlinecolor": "#2a3f5f"
            },
            "type": "carpet"
           }
          ],
          "choropleth": [
           {
            "colorbar": {
             "outlinewidth": 0,
             "ticks": ""
            },
            "type": "choropleth"
           }
          ],
          "contour": [
           {
            "colorbar": {
             "outlinewidth": 0,
             "ticks": ""
            },
            "colorscale": [
             [
              0,
              "#0d0887"
             ],
             [
              0.1111111111111111,
              "#46039f"
             ],
             [
              0.2222222222222222,
              "#7201a8"
             ],
             [
              0.3333333333333333,
              "#9c179e"
             ],
             [
              0.4444444444444444,
              "#bd3786"
             ],
             [
              0.5555555555555556,
              "#d8576b"
             ],
             [
              0.6666666666666666,
              "#ed7953"
             ],
             [
              0.7777777777777778,
              "#fb9f3a"
             ],
             [
              0.8888888888888888,
              "#fdca26"
             ],
             [
              1,
              "#f0f921"
             ]
            ],
            "type": "contour"
           }
          ],
          "contourcarpet": [
           {
            "colorbar": {
             "outlinewidth": 0,
             "ticks": ""
            },
            "type": "contourcarpet"
           }
          ],
          "heatmap": [
           {
            "colorbar": {
             "outlinewidth": 0,
             "ticks": ""
            },
            "colorscale": [
             [
              0,
              "#0d0887"
             ],
             [
              0.1111111111111111,
              "#46039f"
             ],
             [
              0.2222222222222222,
              "#7201a8"
             ],
             [
              0.3333333333333333,
              "#9c179e"
             ],
             [
              0.4444444444444444,
              "#bd3786"
             ],
             [
              0.5555555555555556,
              "#d8576b"
             ],
             [
              0.6666666666666666,
              "#ed7953"
             ],
             [
              0.7777777777777778,
              "#fb9f3a"
             ],
             [
              0.8888888888888888,
              "#fdca26"
             ],
             [
              1,
              "#f0f921"
             ]
            ],
            "type": "heatmap"
           }
          ],
          "heatmapgl": [
           {
            "colorbar": {
             "outlinewidth": 0,
             "ticks": ""
            },
            "colorscale": [
             [
              0,
              "#0d0887"
             ],
             [
              0.1111111111111111,
              "#46039f"
             ],
             [
              0.2222222222222222,
              "#7201a8"
             ],
             [
              0.3333333333333333,
              "#9c179e"
             ],
             [
              0.4444444444444444,
              "#bd3786"
             ],
             [
              0.5555555555555556,
              "#d8576b"
             ],
             [
              0.6666666666666666,
              "#ed7953"
             ],
             [
              0.7777777777777778,
              "#fb9f3a"
             ],
             [
              0.8888888888888888,
              "#fdca26"
             ],
             [
              1,
              "#f0f921"
             ]
            ],
            "type": "heatmapgl"
           }
          ],
          "histogram": [
           {
            "marker": {
             "pattern": {
              "fillmode": "overlay",
              "size": 10,
              "solidity": 0.2
             }
            },
            "type": "histogram"
           }
          ],
          "histogram2d": [
           {
            "colorbar": {
             "outlinewidth": 0,
             "ticks": ""
            },
            "colorscale": [
             [
              0,
              "#0d0887"
             ],
             [
              0.1111111111111111,
              "#46039f"
             ],
             [
              0.2222222222222222,
              "#7201a8"
             ],
             [
              0.3333333333333333,
              "#9c179e"
             ],
             [
              0.4444444444444444,
              "#bd3786"
             ],
             [
              0.5555555555555556,
              "#d8576b"
             ],
             [
              0.6666666666666666,
              "#ed7953"
             ],
             [
              0.7777777777777778,
              "#fb9f3a"
             ],
             [
              0.8888888888888888,
              "#fdca26"
             ],
             [
              1,
              "#f0f921"
             ]
            ],
            "type": "histogram2d"
           }
          ],
          "histogram2dcontour": [
           {
            "colorbar": {
             "outlinewidth": 0,
             "ticks": ""
            },
            "colorscale": [
             [
              0,
              "#0d0887"
             ],
             [
              0.1111111111111111,
              "#46039f"
             ],
             [
              0.2222222222222222,
              "#7201a8"
             ],
             [
              0.3333333333333333,
              "#9c179e"
             ],
             [
              0.4444444444444444,
              "#bd3786"
             ],
             [
              0.5555555555555556,
              "#d8576b"
             ],
             [
              0.6666666666666666,
              "#ed7953"
             ],
             [
              0.7777777777777778,
              "#fb9f3a"
             ],
             [
              0.8888888888888888,
              "#fdca26"
             ],
             [
              1,
              "#f0f921"
             ]
            ],
            "type": "histogram2dcontour"
           }
          ],
          "mesh3d": [
           {
            "colorbar": {
             "outlinewidth": 0,
             "ticks": ""
            },
            "type": "mesh3d"
           }
          ],
          "parcoords": [
           {
            "line": {
             "colorbar": {
              "outlinewidth": 0,
              "ticks": ""
             }
            },
            "type": "parcoords"
           }
          ],
          "pie": [
           {
            "automargin": true,
            "type": "pie"
           }
          ],
          "scatter": [
           {
            "marker": {
             "colorbar": {
              "outlinewidth": 0,
              "ticks": ""
             }
            },
            "type": "scatter"
           }
          ],
          "scatter3d": [
           {
            "line": {
             "colorbar": {
              "outlinewidth": 0,
              "ticks": ""
             }
            },
            "marker": {
             "colorbar": {
              "outlinewidth": 0,
              "ticks": ""
             }
            },
            "type": "scatter3d"
           }
          ],
          "scattercarpet": [
           {
            "marker": {
             "colorbar": {
              "outlinewidth": 0,
              "ticks": ""
             }
            },
            "type": "scattercarpet"
           }
          ],
          "scattergeo": [
           {
            "marker": {
             "colorbar": {
              "outlinewidth": 0,
              "ticks": ""
             }
            },
            "type": "scattergeo"
           }
          ],
          "scattergl": [
           {
            "marker": {
             "colorbar": {
              "outlinewidth": 0,
              "ticks": ""
             }
            },
            "type": "scattergl"
           }
          ],
          "scattermapbox": [
           {
            "marker": {
             "colorbar": {
              "outlinewidth": 0,
              "ticks": ""
             }
            },
            "type": "scattermapbox"
           }
          ],
          "scatterpolar": [
           {
            "marker": {
             "colorbar": {
              "outlinewidth": 0,
              "ticks": ""
             }
            },
            "type": "scatterpolar"
           }
          ],
          "scatterpolargl": [
           {
            "marker": {
             "colorbar": {
              "outlinewidth": 0,
              "ticks": ""
             }
            },
            "type": "scatterpolargl"
           }
          ],
          "scatterternary": [
           {
            "marker": {
             "colorbar": {
              "outlinewidth": 0,
              "ticks": ""
             }
            },
            "type": "scatterternary"
           }
          ],
          "surface": [
           {
            "colorbar": {
             "outlinewidth": 0,
             "ticks": ""
            },
            "colorscale": [
             [
              0,
              "#0d0887"
             ],
             [
              0.1111111111111111,
              "#46039f"
             ],
             [
              0.2222222222222222,
              "#7201a8"
             ],
             [
              0.3333333333333333,
              "#9c179e"
             ],
             [
              0.4444444444444444,
              "#bd3786"
             ],
             [
              0.5555555555555556,
              "#d8576b"
             ],
             [
              0.6666666666666666,
              "#ed7953"
             ],
             [
              0.7777777777777778,
              "#fb9f3a"
             ],
             [
              0.8888888888888888,
              "#fdca26"
             ],
             [
              1,
              "#f0f921"
             ]
            ],
            "type": "surface"
           }
          ],
          "table": [
           {
            "cells": {
             "fill": {
              "color": "#EBF0F8"
             },
             "line": {
              "color": "white"
             }
            },
            "header": {
             "fill": {
              "color": "#C8D4E3"
             },
             "line": {
              "color": "white"
             }
            },
            "type": "table"
           }
          ]
         },
         "layout": {
          "annotationdefaults": {
           "arrowcolor": "#2a3f5f",
           "arrowhead": 0,
           "arrowwidth": 1
          },
          "autotypenumbers": "strict",
          "coloraxis": {
           "colorbar": {
            "outlinewidth": 0,
            "ticks": ""
           }
          },
          "colorscale": {
           "diverging": [
            [
             0,
             "#8e0152"
            ],
            [
             0.1,
             "#c51b7d"
            ],
            [
             0.2,
             "#de77ae"
            ],
            [
             0.3,
             "#f1b6da"
            ],
            [
             0.4,
             "#fde0ef"
            ],
            [
             0.5,
             "#f7f7f7"
            ],
            [
             0.6,
             "#e6f5d0"
            ],
            [
             0.7,
             "#b8e186"
            ],
            [
             0.8,
             "#7fbc41"
            ],
            [
             0.9,
             "#4d9221"
            ],
            [
             1,
             "#276419"
            ]
           ],
           "sequential": [
            [
             0,
             "#0d0887"
            ],
            [
             0.1111111111111111,
             "#46039f"
            ],
            [
             0.2222222222222222,
             "#7201a8"
            ],
            [
             0.3333333333333333,
             "#9c179e"
            ],
            [
             0.4444444444444444,
             "#bd3786"
            ],
            [
             0.5555555555555556,
             "#d8576b"
            ],
            [
             0.6666666666666666,
             "#ed7953"
            ],
            [
             0.7777777777777778,
             "#fb9f3a"
            ],
            [
             0.8888888888888888,
             "#fdca26"
            ],
            [
             1,
             "#f0f921"
            ]
           ],
           "sequentialminus": [
            [
             0,
             "#0d0887"
            ],
            [
             0.1111111111111111,
             "#46039f"
            ],
            [
             0.2222222222222222,
             "#7201a8"
            ],
            [
             0.3333333333333333,
             "#9c179e"
            ],
            [
             0.4444444444444444,
             "#bd3786"
            ],
            [
             0.5555555555555556,
             "#d8576b"
            ],
            [
             0.6666666666666666,
             "#ed7953"
            ],
            [
             0.7777777777777778,
             "#fb9f3a"
            ],
            [
             0.8888888888888888,
             "#fdca26"
            ],
            [
             1,
             "#f0f921"
            ]
           ]
          },
          "colorway": [
           "#636efa",
           "#EF553B",
           "#00cc96",
           "#ab63fa",
           "#FFA15A",
           "#19d3f3",
           "#FF6692",
           "#B6E880",
           "#FF97FF",
           "#FECB52"
          ],
          "font": {
           "color": "#2a3f5f"
          },
          "geo": {
           "bgcolor": "white",
           "lakecolor": "white",
           "landcolor": "white",
           "showlakes": true,
           "showland": true,
           "subunitcolor": "#C8D4E3"
          },
          "hoverlabel": {
           "align": "left"
          },
          "hovermode": "closest",
          "mapbox": {
           "style": "light"
          },
          "paper_bgcolor": "white",
          "plot_bgcolor": "white",
          "polar": {
           "angularaxis": {
            "gridcolor": "#EBF0F8",
            "linecolor": "#EBF0F8",
            "ticks": ""
           },
           "bgcolor": "white",
           "radialaxis": {
            "gridcolor": "#EBF0F8",
            "linecolor": "#EBF0F8",
            "ticks": ""
           }
          },
          "scene": {
           "xaxis": {
            "backgroundcolor": "white",
            "gridcolor": "#DFE8F3",
            "gridwidth": 2,
            "linecolor": "#EBF0F8",
            "showbackground": true,
            "ticks": "",
            "zerolinecolor": "#EBF0F8"
           },
           "yaxis": {
            "backgroundcolor": "white",
            "gridcolor": "#DFE8F3",
            "gridwidth": 2,
            "linecolor": "#EBF0F8",
            "showbackground": true,
            "ticks": "",
            "zerolinecolor": "#EBF0F8"
           },
           "zaxis": {
            "backgroundcolor": "white",
            "gridcolor": "#DFE8F3",
            "gridwidth": 2,
            "linecolor": "#EBF0F8",
            "showbackground": true,
            "ticks": "",
            "zerolinecolor": "#EBF0F8"
           }
          },
          "shapedefaults": {
           "line": {
            "color": "#2a3f5f"
           }
          },
          "ternary": {
           "aaxis": {
            "gridcolor": "#DFE8F3",
            "linecolor": "#A2B1C6",
            "ticks": ""
           },
           "baxis": {
            "gridcolor": "#DFE8F3",
            "linecolor": "#A2B1C6",
            "ticks": ""
           },
           "bgcolor": "white",
           "caxis": {
            "gridcolor": "#DFE8F3",
            "linecolor": "#A2B1C6",
            "ticks": ""
           }
          },
          "title": {
           "x": 0.05
          },
          "xaxis": {
           "automargin": true,
           "gridcolor": "#EBF0F8",
           "linecolor": "#EBF0F8",
           "ticks": "",
           "title": {
            "standoff": 15
           },
           "zerolinecolor": "#EBF0F8",
           "zerolinewidth": 2
          },
          "yaxis": {
           "automargin": true,
           "gridcolor": "#EBF0F8",
           "linecolor": "#EBF0F8",
           "ticks": "",
           "title": {
            "standoff": 15
           },
           "zerolinecolor": "#EBF0F8",
           "zerolinewidth": 2
          }
         }
        },
        "title": {
         "text": "Column histograms"
        },
        "xaxis": {
         "anchor": "y",
         "autorange": true,
         "domain": [
          0,
          0.2125
         ],
         "range": [
          1.3877787807814457e-16,
          2.2
         ],
         "type": "linear"
        },
        "xaxis2": {
         "anchor": "y2",
         "autorange": true,
         "domain": [
          0.2625,
          0.475
         ],
         "range": [
          -3,
          2.5
         ],
         "type": "linear"
        },
        "xaxis3": {
         "anchor": "y3",
         "autorange": true,
         "domain": [
          0.525,
          0.7375
         ],
         "range": [
          -3,
          2.5
         ],
         "type": "linear"
        },
        "xaxis4": {
         "anchor": "y4",
         "autorange": true,
         "domain": [
          0.7875,
          1
         ],
         "range": [
          -2,
          1.5
         ],
         "type": "linear"
        },
        "xaxis5": {
         "anchor": "y5",
         "autorange": true,
         "domain": [
          0,
          0.2125
         ],
         "range": [
          -3,
          3.5
         ],
         "type": "linear"
        },
        "xaxis6": {
         "anchor": "y6",
         "autorange": true,
         "domain": [
          0.2625,
          0.475
         ],
         "range": [
          -0.5,
          1.5
         ],
         "type": "linear"
        },
        "xaxis7": {
         "anchor": "y7",
         "domain": [
          0.525,
          0.7375
         ]
        },
        "xaxis8": {
         "anchor": "y8",
         "domain": [
          0.7875,
          1
         ]
        },
        "yaxis": {
         "anchor": "x",
         "autorange": true,
         "domain": [
          0.625,
          1
         ],
         "range": [
          0,
          30.526315789473685
         ]
        },
        "yaxis2": {
         "anchor": "x2",
         "autorange": true,
         "domain": [
          0.625,
          1
         ],
         "range": [
          0,
          23.157894736842106
         ]
        },
        "yaxis3": {
         "anchor": "x3",
         "autorange": true,
         "domain": [
          0.625,
          1
         ],
         "range": [
          0,
          21.05263157894737
         ]
        },
        "yaxis4": {
         "anchor": "x4",
         "autorange": true,
         "domain": [
          0.625,
          1
         ],
         "range": [
          0,
          27.36842105263158
         ]
        },
        "yaxis5": {
         "anchor": "x5",
         "autorange": true,
         "domain": [
          0,
          0.375
         ],
         "range": [
          0,
          23.157894736842106
         ]
        },
        "yaxis6": {
         "anchor": "x6",
         "autorange": true,
         "domain": [
          0,
          0.375
         ],
         "range": [
          0,
          53.68421052631579
         ]
        },
        "yaxis7": {
         "anchor": "x7",
         "domain": [
          0,
          0.375
         ]
        },
        "yaxis8": {
         "anchor": "x8",
         "domain": [
          0,
          0.375
         ]
        }
       }
      },
      "image/png": "[encoded data removed]",
      "text/html": [
       "<div>                            <div id=\"cd88d7b0-23a4-4a1a-81d1-d95418129912\" class=\"plotly-graph-div\" style=\"height:600px; width:100%;\"></div>            <script type=\"text/javascript\">                require([\"plotly\"], function(Plotly) {                    window.PLOTLYENV=window.PLOTLYENV || {};                                    if (document.getElementById(\"cd88d7b0-23a4-4a1a-81d1-d95418129912\")) {                    Plotly.newPlot(                        \"cd88d7b0-23a4-4a1a-81d1-d95418129912\",                        [{\"name\":\"title_caps\",\"type\":\"histogram\",\"x\":[0.848069266034133,0.9645720491689348,0.8614625583990794,0.87226739420103,0.4411898065973839,1.0224201888119395,0.983799588475498,0.8577195294751508,0.5585387291616768,1.178672736032449,1.446821802978492,0.4673979050233181,0.9268698101370234,1.8382940020117355,0.980427414166272,0.8886114568841085,0.7752853263946639,0.8712257889228014,1.1206215505733514,2.075829711218021,0.6675917951237984,0.6256733726929036,1.1480965730273718,0.7001757103956218,1.2570443405637142,0.8598237505632118,0.7737036127053923,1.2799138611945464,0.6236885206491605,0.354133613063627,1.1846862410287575,0.8572964910314202,0.9670372672874856,0.7229780072783478,0.8888388132265973,1.1354511214808412,0.8787407108150369,1.1677767648464212,1.7754769802252792,1.646618531138555,0.4733077715133892,0.7880184546155571,0.8587749615063791,1.3658646057938713,1.1855900269489703,1.0604086060349098,1.094884846850771,1.4689314624094183,0.7834405376815831,0.9292506003821566,1.2454939773716378,1.3285794874727748,0.6921144881545628,1.1894777785581612,0.4468951606303631,0.9713953383996804,0.6183904470554754,0.6109426002771399,1.3474082484156824,0.8786438023828849,1.985193133292912,1.126419814839981,1.347286427211254,0.947814112949102,0.876994649969822,1.0281747892602584,0.1059364502821916,1.1675548573985226,0.5630779019377534,1.584637738307735,1.1437713001296168,0.6917437297999465,1.2161906095301152,1.0119522783461037,0.8533555454602381,0.8955105082490926,0.8989171610789398,0.7617066844593652,0.8158361162028245,1.3272011170361426,1.3919812847440975,0.9978551633605188,1.3766140468168702,0.9362112464079576,0.3457159974212194,1.0652331074966812,0.7903238932891028,1.0725884656230211,1.067029179566105,1.2286736742133422,1.6675229688599074,1.0117733734132208,0.8883894446099407,0.5699838482929139,0.6215309908320834,0.6818893355161222,0.6236294995277172,0.6136367070044536,0.8956231222359867,1.0396731551776253],\"xaxis\":\"x\",\"yaxis\":\"y\"},{\"name\":\"title_diacritics\",\"type\":\"histogram\",\"x\":[0.6545801525867004,2.0511734428574444,0.451946037321223,-0.1950573408759011,0.4501555127671789,-0.1681988397447159,-0.7995474906917599,0.7217112921126926,-0.4487380326716227,-0.4431719307006377,-1.3065340728440185,-0.1028872175735376,-0.1053447125075421,-1.2368533765413974,-0.5457741679825677,1.7897546832062712,-0.4116391631884825,1.460892380463078,1.208456328551963,1.1234121620219353,-0.1989981838037244,-0.6613442431530187,0.6610202875986929,0.2826757122484202,-0.2364369518129867,1.0989963327471792,-0.6069983982000461,-0.6011568006493835,2.1378280674394823,-1.674195807618932,-0.2790977215432902,1.93752881361608,1.1223283216570925,0.3865391451330911,-0.2973618827735036,0.3501671588282789,-0.1841763256537453,1.6169495988573002,-0.4349566829552277,-0.2033944489645584,-0.0177183179101422,-0.4791849151274058,-0.3848322488327904,0.3235273536014321,0.9214500686595114,0.0218628366265524,0.1892931975586576,-0.861316360776042,-0.3449872101549794,2.054624102518116,-1.471156925832625,0.4666432672288407,0.0165275673056156,-0.3109849783028509,-0.9554252623736892,-0.2379419357521826,1.7602492264490932,0.7147895974858154,-0.4130293097110322,1.1181333967176956,0.1094026964254281,-1.1759826714413153,0.6085146984848496,1.7045941713724069,-1.2331207354464266,-0.6946935952872263,-0.3439007092103924,-0.8772815189181883,0.7950260944248447,-0.8677686776235903,0.2764993048221836,1.1041743263032135,-1.1148710523659369,0.3102722877837673,-1.7775663758059874,-0.7819116826868007,0.9561217041246964,0.9206151180549562,-0.9339146556265012,0.4511229387345986,1.2020548621997058,-1.160170104982276,-2.1424667290773685,-0.5084571342754007,1.5433591108044835,0.9391687441964878,0.0809271009732786,-1.342675789377436,0.4923365559366488,1.7679599483110264,-1.021885944641309,1.6133613745631157,1.2328991923762371,1.232253070828436,-2.7825344676529227,-1.9425891814764555,-0.5372230238753384,-1.5387932457446432,0.528879745585174,1.4514292605909354],\"xaxis\":\"x2\",\"yaxis\":\"y2\"},{\"name\":\"triggers\",\"type\":\"histogram\",\"x\":[0.8245846250334574,-1.0445893819077916,-0.4148469012882354,0.9200179332477632,-0.1083920671735398,0.0085489454360246,0.057120996082092,-0.8224671889042517,-0.1902210250848615,0.6185391307862932,2.1106050536007097,0.8408615581411037,-0.918440038300026,-0.5865239388215925,2.4493686490613973,0.8088443602656821,-2.114163921916826,0.6745707069560037,-0.4291422782350937,-0.5998045310708474,-0.1187711721030892,1.3887793963702684,0.201830178874004,-0.7972697854931297,0.352494364369333,-0.7223919054141509,0.4295261400219645,0.0896864073225901,0.5643828554943137,-0.6657545181991266,-0.8805775998441709,-2.79308500014654,0.4381663472912375,-0.3312831699326283,-0.0845080274046298,-0.4791570987860799,0.6179855339203347,0.1291015797107254,0.6233621765780327,-0.7003985049212547,-1.1077125022845524,-0.418937897678123,1.000881423680301,-0.4422292795131728,0.0954250871912577,0.324274243448421,-0.2589828534005323,-1.396620424595432,-1.3057269225577377,-0.7499696172756662,2.0657833202188343,-0.0497025791586758,0.2111247550077167,-0.4982135636310781,0.7847706510155895,1.1926860677546935,2.056355523198293,-1.7559256402328518,0.8532812219556223,-0.5322340208981775,1.558805540619859,0.4611640999770174,1.0449944096738977,1.197830841721251,-0.1204645717885074,0.0133526763471765,-0.5938430672545096,0.8849088144648833,-1.5256803162293575,-0.7255971191344275,0.2624674454632686,0.4516159505552415,0.515413801783241,1.1158411079241686,-2.413503001173788,1.399843942480986,0.6210827008390084,-1.873160977635301,-0.1754589686617526,-1.4023291454531368,0.1340481965546231,-1.6840599858682372,0.0864644065242874,0.8709698025322423,0.8360047194342688,-0.5574947217860433,-1.1164700178847444,-0.3264994980781842,-0.0568244808858473,-1.426555420520532,0.4776101818175572,-0.2287658288701624,0.3672318138838647,-1.44087602429184,0.5150736136393657,-2.037201225680795,-0.7013444262571769,0.0353600970547573,-0.8286279788564058,-0.1067939867792251],\"xaxis\":\"x3\",\"yaxis\":\"y3\"},{\"name\":\"prices\",\"type\":\"histogram\",\"x\":[0.8279873708711869,1.21828167992902,-1.4753391527670985,1.026007665443852,-1.8887398191896665,1.150807550251469,-1.278618001940948,-1.390030424705494,0.8255069542071991,1.1789942513173068,-0.6824301926378888,-0.5470622387481153,-1.0923082765348864,1.3255141185000552,1.1001847550303598,-1.1472282644315164,0.786556510927579,-0.8735358220393482,-1.1801341248339487,1.0343658132120666,-1.4462098728691366,1.231872511916856,1.1735314526842158,0.8823933142441358,-0.6237328123760154,-1.1564950314268887,1.068210437174273,-0.968539694419306,-1.1891378718034162,0.9039454505835728,0.965482331076764,1.1387289630870896,0.908526040733614,-0.8498307378543942,0.8140513466608131,-1.1146901964903064,-1.4666216105885124,1.0131357444773983,0.9643505644902312,1.084800375294685,-1.0136696147054516,-1.2037692726248406,-0.6720498164694828,0.8491760661362975,1.033341004147798,-0.9073183611270496,-1.4418909621618132,1.033450516268753,0.9317171973880908,-1.2125878069874894,1.0027765491746703,-1.6845076973356652,1.1745696549429092,0.8217832103452452,0.8506379634566029,1.0576548952621476,-1.0304893229308636,-0.9449599479880828,-0.5424599219229069,-1.0494863822738634,1.2238271227292563,0.9445950662814496,-0.8894875962170039,-1.2391225600617886,0.8918914052769839,0.6177141850665622,-1.5355611804303309,1.108633593662286,1.0679636791754488,1.329702988273395,1.1771811092403848,-1.2025725826988056,-1.364191319668968,-0.917664624318472,-1.2993617873714682,0.8780991029624965,0.8414672057666084,-1.6416247924569929,-0.8828698203275791,-0.5789623016216506,0.704557071452043,-0.9335572895150446,-0.6275462597642983,-0.9843772463017404,0.771514409328893,-1.2301755468806426,0.9158840417315484,1.2432872441446574,0.751480619491496,-1.739637994721246,-0.4938569965406407,-1.422031642583927,-0.849671872685073,0.606604306638012,-1.137428554197676,0.9985451874023448,0.9364033321072016,-0.7604580946331838,-1.8506409892206923,0.9592881897453625],\"xaxis\":\"x4\",\"yaxis\":\"y4\"},{\"name\":\"attachments\",\"type\":\"histogram\",\"x\":[-0.0511884476076642,0.5856620001723825,-1.5791562853944654,0.8053934242321815,1.7653351005190716,-0.1741803443079907,-0.2915945955008327,-0.625342001465988,-0.6724480387865963,1.8105349141254563,0.076380480159592,1.146900376399483,0.630195670684911,0.8758389276492995,-0.1988378628888967,0.4512840160401709,1.2785280828417218,0.5924728014240198,1.1157018027844865,0.3052670402440107,1.8664713751521247,3.0308571123720305,1.792158208975567,-0.8260974318473202,0.7278134999996488,-0.901634490475998,0.1062227240352178,0.5560735100773853,-0.7855339969202355,0.8250298244389859,1.622849085954001,0.3663320145400582,-0.9970197955296825,-0.8514556565308268,0.4173020049748625,0.0171647263740885,-0.1159851854723962,0.5027408819999043,1.4075400002412286,0.2426694410817945,-1.719394474619523,-1.9521052872452325,1.45810823860952,-0.1099914901636068,0.0607501957995067,-0.4686738162778913,-0.5637887345823027,0.6747115256879723,-0.2308397431354694,0.0534095367983479,-0.8301718953151139,1.033686867939501,0.1771877202759604,-0.0018914828380037,0.5859104311026156,1.1552878860882252,-0.0606524917748098,0.8527040617252863,1.8347176266496867,0.6743961048208689,-1.2197443969790327,1.0101271773347245,-0.0693286966904828,1.0400891531540952,-1.1823181265096336,0.6218035043055724,-1.0001691898725158,-0.8677872228729256,-0.3744383188432206,-0.1359773261005893,-0.7332716038953129,-0.2817362690656128,-0.7673098263317347,-2.094247816222812,-0.7778588266274128,-0.437508982828581,-0.7058405074022839,-0.0353679248787109,-0.5330203260835993,-0.6949209011852391,0.2847481108490579,1.350106818681726,-0.830168864022708,0.7774192052488628,0.7588056600979309,-1.9433234056683528,-0.1865789935114662,1.114382976779792,-0.6806781410088858,-0.4753728751379821,0.7945282396010823,-0.3748046873026527,-0.4228569613907754,-0.2541798676073683,0.5846466104774262,-2.506440652676061,0.1562638502700832,-0.4478951847161186,-2.2370865111124707,-0.6180368476815788],\"xaxis\":\"x5\",\"yaxis\":\"y5\"},{\"name\":\"spam\",\"type\":\"histogram\",\"x\":[0,0,1,0,1,0,1,1,0,0,1,1,1,0,0,1,0,1,1,0,1,0,0,0,1,1,0,1,1,0,0,0,0,1,0,1,1,0,0,0,1,1,0,0,0,1,1,0,0,1,0,1,0,0,0,0,1,1,1,1,0,0,1,1,0,0,1,0,0,0,0,1,1,1,1,0,0,1,1,1,0,1,1,1,0,1,0,0,0,1,1,1,1,0,1,0,0,1,1,0],\"xaxis\":\"x6\",\"yaxis\":\"y6\"}],                        {\"annotations\":[{\"font\":{\"size\":16},\"showarrow\":false,\"text\":\"title_caps\",\"x\":0.10625,\"xanchor\":\"center\",\"xref\":\"paper\",\"y\":1.0,\"yanchor\":\"bottom\",\"yref\":\"paper\"},{\"font\":{\"size\":16},\"showarrow\":false,\"text\":\"title_diacritics\",\"x\":0.36875,\"xanchor\":\"center\",\"xref\":\"paper\",\"y\":1.0,\"yanchor\":\"bottom\",\"yref\":\"paper\"},{\"font\":{\"size\":16},\"showarrow\":false,\"text\":\"triggers\",\"x\":0.6312500000000001,\"xanchor\":\"center\",\"xref\":\"paper\",\"y\":1.0,\"yanchor\":\"bottom\",\"yref\":\"paper\"},{\"font\":{\"size\":16},\"showarrow\":false,\"text\":\"prices\",\"x\":0.89375,\"xanchor\":\"center\",\"xref\":\"paper\",\"y\":1.0,\"yanchor\":\"bottom\",\"yref\":\"paper\"},{\"font\":{\"size\":16},\"showarrow\":false,\"text\":\"attachments\",\"x\":0.10625,\"xanchor\":\"center\",\"xref\":\"paper\",\"y\":0.375,\"yanchor\":\"bottom\",\"yref\":\"paper\"},{\"font\":{\"size\":16},\"showarrow\":false,\"text\":\"spam\",\"x\":0.36875,\"xanchor\":\"center\",\"xref\":\"paper\",\"y\":0.375,\"yanchor\":\"bottom\",\"yref\":\"paper\"}],\"height\":600,\"showlegend\":false,\"template\":{\"data\":{\"bar\":[{\"error_x\":{\"color\":\"#2a3f5f\"},\"error_y\":{\"color\":\"#2a3f5f\"},\"marker\":{\"line\":{\"color\":\"white\",\"width\":0.5},\"pattern\":{\"fillmode\":\"overlay\",\"size\":10,\"solidity\":0.2}},\"type\":\"bar\"}],\"barpolar\":[{\"marker\":{\"line\":{\"color\":\"white\",\"width\":0.5},\"pattern\":{\"fillmode\":\"overlay\",\"size\":10,\"solidity\":0.2}},\"type\":\"barpolar\"}],\"carpet\":[{\"aaxis\":{\"endlinecolor\":\"#2a3f5f\",\"gridcolor\":\"#C8D4E3\",\"linecolor\":\"#C8D4E3\",\"minorgridcolor\":\"#C8D4E3\",\"startlinecolor\":\"#2a3f5f\"},\"baxis\":{\"endlinecolor\":\"#2a3f5f\",\"gridcolor\":\"#C8D4E3\",\"linecolor\":\"#C8D4E3\",\"minorgridcolor\":\"#C8D4E3\",\"startlinecolor\":\"#2a3f5f\"},\"type\":\"carpet\"}],\"choropleth\":[{\"colorbar\":{\"outlinewidth\":0,\"ticks\":\"\"},\"type\":\"choropleth\"}],\"contour\":[{\"colorbar\":{\"outlinewidth\":0,\"ticks\":\"\"},\"colorscale\":[[0.0,\"#0d0887\"],[0.1111111111111111,\"#46039f\"],[0.2222222222222222,\"#7201a8\"],[0.3333333333333333,\"#9c179e\"],[0.4444444444444444,\"#bd3786\"],[0.5555555555555556,\"#d8576b\"],[0.6666666666666666,\"#ed7953\"],[0.7777777777777778,\"#fb9f3a\"],[0.8888888888888888,\"#fdca26\"],[1.0,\"#f0f921\"]],\"type\":\"contour\"}],\"contourcarpet\":[{\"colorbar\":{\"outlinewidth\":0,\"ticks\":\"\"},\"type\":\"contourcarpet\"}],\"heatmap\":[{\"colorbar\":{\"outlinewidth\":0,\"ticks\":\"\"},\"colorscale\":[[0.0,\"#0d0887\"],[0.1111111111111111,\"#46039f\"],[0.2222222222222222,\"#7201a8\"],[0.3333333333333333,\"#9c179e\"],[0.4444444444444444,\"#bd3786\"],[0.5555555555555556,\"#d8576b\"],[0.6666666666666666,\"#ed7953\"],[0.7777777777777778,\"#fb9f3a\"],[0.8888888888888888,\"#fdca26\"],[1.0,\"#f0f921\"]],\"type\":\"heatmap\"}],\"heatmapgl\":[{\"colorbar\":{\"outlinewidth\":0,\"ticks\":\"\"},\"colorscale\":[[0.0,\"#0d0887\"],[0.1111111111111111,\"#46039f\"],[0.2222222222222222,\"#7201a8\"],[0.3333333333333333,\"#9c179e\"],[0.4444444444444444,\"#bd3786\"],[0.5555555555555556,\"#d8576b\"],[0.6666666666666666,\"#ed7953\"],[0.7777777777777778,\"#fb9f3a\"],[0.8888888888888888,\"#fdca26\"],[1.0,\"#f0f921\"]],\"type\":\"heatmapgl\"}],\"histogram\":[{\"marker\":{\"pattern\":{\"fillmode\":\"overlay\",\"size\":10,\"solidity\":0.2}},\"type\":\"histogram\"}],\"histogram2d\":[{\"colorbar\":{\"outlinewidth\":0,\"ticks\":\"\"},\"colorscale\":[[0.0,\"#0d0887\"],[0.1111111111111111,\"#46039f\"],[0.2222222222222222,\"#7201a8\"],[0.3333333333333333,\"#9c179e\"],[0.4444444444444444,\"#bd3786\"],[0.5555555555555556,\"#d8576b\"],[0.6666666666666666,\"#ed7953\"],[0.7777777777777778,\"#fb9f3a\"],[0.8888888888888888,\"#fdca26\"],[1.0,\"#f0f921\"]],\"type\":\"histogram2d\"}],\"histogram2dcontour\":[{\"colorbar\":{\"outlinewidth\":0,\"ticks\":\"\"},\"colorscale\":[[0.0,\"#0d0887\"],[0.1111111111111111,\"#46039f\"],[0.2222222222222222,\"#7201a8\"],[0.3333333333333333,\"#9c179e\"],[0.4444444444444444,\"#bd3786\"],[0.5555555555555556,\"#d8576b\"],[0.6666666666666666,\"#ed7953\"],[0.7777777777777778,\"#fb9f3a\"],[0.8888888888888888,\"#fdca26\"],[1.0,\"#f0f921\"]],\"type\":\"histogram2dcontour\"}],\"mesh3d\":[{\"colorbar\":{\"outlinewidth\":0,\"ticks\":\"\"},\"type\":\"mesh3d\"}],\"parcoords\":[{\"line\":{\"colorbar\":{\"outlinewidth\":0,\"ticks\":\"\"}},\"type\":\"parcoords\"}],\"pie\":[{\"automargin\":true,\"type\":\"pie\"}],\"scatter\":[{\"marker\":{\"colorbar\":{\"outlinewidth\":0,\"ticks\":\"\"}},\"type\":\"scatter\"}],\"scatter3d\":[{\"line\":{\"colorbar\":{\"outlinewidth\":0,\"ticks\":\"\"}},\"marker\":{\"colorbar\":{\"outlinewidth\":0,\"ticks\":\"\"}},\"type\":\"scatter3d\"}],\"scattercarpet\":[{\"marker\":{\"colorbar\":{\"outlinewidth\":0,\"ticks\":\"\"}},\"type\":\"scattercarpet\"}],\"scattergeo\":[{\"marker\":{\"colorbar\":{\"outlinewidth\":0,\"ticks\":\"\"}},\"type\":\"scattergeo\"}],\"scattergl\":[{\"marker\":{\"colorbar\":{\"outlinewidth\":0,\"ticks\":\"\"}},\"type\":\"scattergl\"}],\"scattermapbox\":[{\"marker\":{\"colorbar\":{\"outlinewidth\":0,\"ticks\":\"\"}},\"type\":\"scattermapbox\"}],\"scatterpolar\":[{\"marker\":{\"colorbar\":{\"outlinewidth\":0,\"ticks\":\"\"}},\"type\":\"scatterpolar\"}],\"scatterpolargl\":[{\"marker\":{\"colorbar\":{\"outlinewidth\":0,\"ticks\":\"\"}},\"type\":\"scatterpolargl\"}],\"scatterternary\":[{\"marker\":{\"colorbar\":{\"outlinewidth\":0,\"ticks\":\"\"}},\"type\":\"scatterternary\"}],\"surface\":[{\"colorbar\":{\"outlinewidth\":0,\"ticks\":\"\"},\"colorscale\":[[0.0,\"#0d0887\"],[0.1111111111111111,\"#46039f\"],[0.2222222222222222,\"#7201a8\"],[0.3333333333333333,\"#9c179e\"],[0.4444444444444444,\"#bd3786\"],[0.5555555555555556,\"#d8576b\"],[0.6666666666666666,\"#ed7953\"],[0.7777777777777778,\"#fb9f3a\"],[0.8888888888888888,\"#fdca26\"],[1.0,\"#f0f921\"]],\"type\":\"surface\"}],\"table\":[{\"cells\":{\"fill\":{\"color\":\"#EBF0F8\"},\"line\":{\"color\":\"white\"}},\"header\":{\"fill\":{\"color\":\"#C8D4E3\"},\"line\":{\"color\":\"white\"}},\"type\":\"table\"}]},\"layout\":{\"annotationdefaults\":{\"arrowcolor\":\"#2a3f5f\",\"arrowhead\":0,\"arrowwidth\":1},\"autotypenumbers\":\"strict\",\"coloraxis\":{\"colorbar\":{\"outlinewidth\":0,\"ticks\":\"\"}},\"colorscale\":{\"diverging\":[[0,\"#8e0152\"],[0.1,\"#c51b7d\"],[0.2,\"#de77ae\"],[0.3,\"#f1b6da\"],[0.4,\"#fde0ef\"],[0.5,\"#f7f7f7\"],[0.6,\"#e6f5d0\"],[0.7,\"#b8e186\"],[0.8,\"#7fbc41\"],[0.9,\"#4d9221\"],[1,\"#276419\"]],\"sequential\":[[0.0,\"#0d0887\"],[0.1111111111111111,\"#46039f\"],[0.2222222222222222,\"#7201a8\"],[0.3333333333333333,\"#9c179e\"],[0.4444444444444444,\"#bd3786\"],[0.5555555555555556,\"#d8576b\"],[0.6666666666666666,\"#ed7953\"],[0.7777777777777778,\"#fb9f3a\"],[0.8888888888888888,\"#fdca26\"],[1.0,\"#f0f921\"]],\"sequentialminus\":[[0.0,\"#0d0887\"],[0.1111111111111111,\"#46039f\"],[0.2222222222222222,\"#7201a8\"],[0.3333333333333333,\"#9c179e\"],[0.4444444444444444,\"#bd3786\"],[0.5555555555555556,\"#d8576b\"],[0.6666666666666666,\"#ed7953\"],[0.7777777777777778,\"#fb9f3a\"],[0.8888888888888888,\"#fdca26\"],[1.0,\"#f0f921\"]]},\"colorway\":[\"#636efa\",\"#EF553B\",\"#00cc96\",\"#ab63fa\",\"#FFA15A\",\"#19d3f3\",\"#FF6692\",\"#B6E880\",\"#FF97FF\",\"#FECB52\"],\"font\":{\"color\":\"#2a3f5f\"},\"geo\":{\"bgcolor\":\"white\",\"lakecolor\":\"white\",\"landcolor\":\"white\",\"showlakes\":true,\"showland\":true,\"subunitcolor\":\"#C8D4E3\"},\"hoverlabel\":{\"align\":\"left\"},\"hovermode\":\"closest\",\"mapbox\":{\"style\":\"light\"},\"paper_bgcolor\":\"white\",\"plot_bgcolor\":\"white\",\"polar\":{\"angularaxis\":{\"gridcolor\":\"#EBF0F8\",\"linecolor\":\"#EBF0F8\",\"ticks\":\"\"},\"bgcolor\":\"white\",\"radialaxis\":{\"gridcolor\":\"#EBF0F8\",\"linecolor\":\"#EBF0F8\",\"ticks\":\"\"}},\"scene\":{\"xaxis\":{\"backgroundcolor\":\"white\",\"gridcolor\":\"#DFE8F3\",\"gridwidth\":2,\"linecolor\":\"#EBF0F8\",\"showbackground\":true,\"ticks\":\"\",\"zerolinecolor\":\"#EBF0F8\"},\"yaxis\":{\"backgroundcolor\":\"white\",\"gridcolor\":\"#DFE8F3\",\"gridwidth\":2,\"linecolor\":\"#EBF0F8\",\"showbackground\":true,\"ticks\":\"\",\"zerolinecolor\":\"#EBF0F8\"},\"zaxis\":{\"backgroundcolor\":\"white\",\"gridcolor\":\"#DFE8F3\",\"gridwidth\":2,\"linecolor\":\"#EBF0F8\",\"showbackground\":true,\"ticks\":\"\",\"zerolinecolor\":\"#EBF0F8\"}},\"shapedefaults\":{\"line\":{\"color\":\"#2a3f5f\"}},\"ternary\":{\"aaxis\":{\"gridcolor\":\"#DFE8F3\",\"linecolor\":\"#A2B1C6\",\"ticks\":\"\"},\"baxis\":{\"gridcolor\":\"#DFE8F3\",\"linecolor\":\"#A2B1C6\",\"ticks\":\"\"},\"bgcolor\":\"white\",\"caxis\":{\"gridcolor\":\"#DFE8F3\",\"linecolor\":\"#A2B1C6\",\"ticks\":\"\"}},\"title\":{\"x\":0.05},\"xaxis\":{\"automargin\":true,\"gridcolor\":\"#EBF0F8\",\"linecolor\":\"#EBF0F8\",\"ticks\":\"\",\"title\":{\"standoff\":15},\"zerolinecolor\":\"#EBF0F8\",\"zerolinewidth\":2},\"yaxis\":{\"automargin\":true,\"gridcolor\":\"#EBF0F8\",\"linecolor\":\"#EBF0F8\",\"ticks\":\"\",\"title\":{\"standoff\":15},\"zerolinecolor\":\"#EBF0F8\",\"zerolinewidth\":2}}},\"title\":{\"text\":\"Column histograms\"},\"xaxis\":{\"anchor\":\"y\",\"domain\":[0.0,0.2125]},\"xaxis2\":{\"anchor\":\"y2\",\"domain\":[0.2625,0.475]},\"xaxis3\":{\"anchor\":\"y3\",\"domain\":[0.525,0.7375]},\"xaxis4\":{\"anchor\":\"y4\",\"domain\":[0.7875,1.0]},\"xaxis5\":{\"anchor\":\"y5\",\"domain\":[0.0,0.2125]},\"xaxis6\":{\"anchor\":\"y6\",\"domain\":[0.2625,0.475]},\"xaxis7\":{\"anchor\":\"y7\",\"domain\":[0.525,0.7375]},\"xaxis8\":{\"anchor\":\"y8\",\"domain\":[0.7875,1.0]},\"yaxis\":{\"anchor\":\"x\",\"domain\":[0.625,1.0]},\"yaxis2\":{\"anchor\":\"x2\",\"domain\":[0.625,1.0]},\"yaxis3\":{\"anchor\":\"x3\",\"domain\":[0.625,1.0]},\"yaxis4\":{\"anchor\":\"x4\",\"domain\":[0.625,1.0]},\"yaxis5\":{\"anchor\":\"x5\",\"domain\":[0.0,0.375]},\"yaxis6\":{\"anchor\":\"x6\",\"domain\":[0.0,0.375]},\"yaxis7\":{\"anchor\":\"x7\",\"domain\":[0.0,0.375]},\"yaxis8\":{\"anchor\":\"x8\",\"domain\":[0.0,0.375]}},                        {\"responsive\": true}                    ).then(function(){\n",
       "                            \n",
       "var gd = document.getElementById('cd88d7b0-23a4-4a1a-81d1-d95418129912');\n",
       "var x = new MutationObserver(function (mutations, observer) {{\n",
       "        var display = window.getComputedStyle(gd).display;\n",
       "        if (!display || display === 'none') {{\n",
       "            console.log([gd, 'removed!']);\n",
       "            Plotly.purge(gd);\n",
       "            observer.disconnect();\n",
       "        }}\n",
       "}});\n",
       "\n",
       "// Listen for the removal of the full notebook cells\n",
       "var notebookContainer = gd.closest('#notebook-container');\n",
       "if (notebookContainer) {{\n",
       "    x.observe(notebookContainer, {childList: true});\n",
       "}}\n",
       "\n",
       "// Listen for the clearing of the current output cell\n",
       "var outputEl = gd.closest('.output');\n",
       "if (outputEl) {{\n",
       "    x.observe(outputEl, {childList: true});\n",
       "}}\n",
       "\n",
       "                        })                };                });            </script>        </div>"
      ]
     },
     "metadata": {},
     "output_type": "display_data"
    }
   ],
   "source": [
    "visualize.histograms(df)"
   ]
  },
  {
   "cell_type": "markdown",
   "id": "2c218289-e9fe-4ae2-9a4e-cc839285f9b1",
   "metadata": {},
   "source": [
    "### Nu jij"
   ]
  },
  {
   "cell_type": "markdown",
   "id": "9104e936-18ac-49c6-a63b-a9715adb2909",
   "metadata": {},
   "source": [
    "- Importeer scikit-learn\n",
    "- Splits de dataset in `features` en `target`\n",
    "- `Standardize` de features\n",
    "- Splits de features in een training en test-set\n",
    "- gebruik de `DecisionTreeClassifier` als classifier\n",
    "- train het model op de trainings data\n",
    "- bereken de `mean accuracy` op de test data\n",
    "\n",
    "Wij halen een accuracy van `81%`, kan jij het beter?\n",
    "\n",
    "\n",
    "**Hints**\n",
    "- [StandardScaler](https://scikit-learn.org/stable/modules/generated/sklearn.preprocessing.StandardScaler.html)\n",
    "- [train_test_split](https://scikit-learn.org/stable/modules/generated/sklearn.model_selection.train_test_split.html)\n",
    "- [DecisionTreeClassifier](https://scikit-learn.org/stable/modules/generated/sklearn.tree.DecisionTreeClassifier.html)"
   ]
  },
  {
   "cell_type": "code",
   "execution_count": null,
   "id": "655fdaab-f108-4804-89e6-7c6aee9af08d",
   "metadata": {},
   "outputs": [],
   "source": []
  },
  {
   "cell_type": "markdown",
   "id": "a960472c-06d3-43e7-a64a-f813b95f9fa0",
   "metadata": {},
   "source": [
    "### Verwachte uitkomst"
   ]
  },
  {
   "cell_type": "code",
   "execution_count": null,
   "id": "4da977ee-ea58-40dd-b228-4abaeb2f9276",
   "metadata": {},
   "outputs": [],
   "source": []
  }
 ],
 "metadata": {
  "kernelspec": {
   "display_name": "Python 3 (ipykernel)",
   "language": "python",
   "name": "python3"
  },
  "language_info": {
   "codemirror_mode": {
    "name": "ipython",
    "version": 3
   },
   "file_extension": ".py",
   "mimetype": "text/x-python",
   "name": "python",
   "nbconvert_exporter": "python",
   "pygments_lexer": "ipython3",
   "version": "3.8.2"
  }
 },
 "nbformat": 4,
 "nbformat_minor": 5
}
